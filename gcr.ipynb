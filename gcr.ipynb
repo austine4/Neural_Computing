{
 "cells": [
  {
   "cell_type": "code",
   "execution_count": null,
   "metadata": {},
   "outputs": [],
   "source": [
    "import pyabf\n",
    "from scipy.signal import butter, sosfiltfilt\n",
    "import matplotlib.pyplot as plt\n",
    "import numpy as np\n",
    "from gcr_utils import *\n",
    "\n",
    "%load_ext autoreload\n",
    "%autoreload 2"
   ]
  },
  {
   "cell_type": "code",
   "execution_count": null,
   "metadata": {},
   "outputs": [],
   "source": [
    "# Load Data\n",
    "data_loader = DataLoader()\n",
    "file_path='07102024_post/2024_07_10_0014_ well 1 C1-C8_ 2 week_ 0.1mil at center_ no BOE_ 1000mV at mV1.abf'\n",
    "raw_data = data_loader.load_data(file_path, exclude=True, channels=[1])#, start_time=0, end_time=50\n",
    "stimulation_electrode=1"
   ]
  },
  {
   "cell_type": "code",
   "execution_count": null,
   "metadata": {},
   "outputs": [],
   "source": [
    "# Visualization\n",
    "visualizer = Visualizer()\n",
    "\n",
    "# Filter data\n",
    "filter = Filter()\n",
    "# Bandpass filter\n",
    "data = filter.bandpass_filter(raw_data, lowcut=300, highcut=2500, order=4)\n",
    "visualizer.multi_channel_plot(data, exclude=True, channels=[], spikes=None, stimulation_times=None)\n",
    "\n",
    "spike_detector = SpikeDetector()\n",
    "stimulation_dict = spike_detector.threshold_detection(data=data, thresholds=[100,100], spike_time = 1000, min_consecutive_time = 0)\n",
    "stimulation_times = find_stimulation_times(stimulation_dict, tolerance=0.01, channel_fraction=0.33)\n",
    "print( \"Stimulation times:\", stimulation_times)"
   ]
  },
  {
   "cell_type": "code",
   "execution_count": null,
   "metadata": {},
   "outputs": [],
   "source": [
    "# Filter stimulation\n",
    "data = filter.stimulation_filter(data, stimulation_times)\n",
    "visualizer.multi_channel_plot(data, exclude=True, channels=[], spikes=None, stimulation_times=stimulation_times)\n",
    "# Filter to mean zero across time\n",
    "data = filter.temporal_zeroing(data)\n",
    "visualizer.multi_channel_plot(data, exclude=True, channels=[], spikes=None, stimulation_times=stimulation_times)\n",
    "# Filter to mean zero across channels (eliminate errant fluctuations)\n",
    "#data = filter.interchannel_zeroing(data)\n",
    "#visualizer.multi_channel_plot(data, exclude=True, channels=[], spikes=None, stimulation_times=stimulation_times)"
   ]
  },
  {
   "cell_type": "code",
   "execution_count": null,
   "metadata": {},
   "outputs": [],
   "source": [
    "# Detect spikes using threshold method\n",
    "spike_detector = SpikeDetector()\n",
    "spikes = spike_detector.threshold_detection(data=data, thresholds=[4,4], spike_time = 2, min_consecutive_time = .2)\n",
    "visualizer.multi_channel_plot(data, exclude=True, channels=[], spikes=spikes, stimulation_times=stimulation_times)\n",
    "# Apply basic post detection processing\n",
    "pdp = PostDetectionProcessing()\n",
    "# Eliminate obvious statistical anomalties\n",
    "spikes = pdp.statistical_elimination(data=data, spike_train = spikes, window=2)\n",
    "visualizer.multi_channel_plot(data, exclude=True, channels=[], spikes=spikes, stimulation_times=stimulation_times)\n",
    "# Align spikes\n",
    "spikes = pdp.align_spikes(data=data, spike_train=spikes, alignment = 'min', window=2, interpolation_factor = 4)\n",
    "#spikes = pdp.multi_point_align_spikes(data=data, spike_train=spikes, window=2, interpolation_factor = 4, max_shift=10, n_peaks=3, n_bins=50)\n",
    "visualizer.multi_channel_overlay_spikes(data, spikes=spikes, window=2)\n"
   ]
  },
  {
   "cell_type": "code",
   "execution_count": null,
   "metadata": {},
   "outputs": [],
   "source": [
    "# Spike sorting\n",
    "sorter = SpikeSorter()\n",
    "# Remove PCA outliers\n",
    "features, clusters = sorter.spike_sorting_pipeline( data=data, spikes=spikes, window = 2, n_components=3, n_clusters=2, dimensionality_reduction_method = 'tsne', cluster = True)"
   ]
  },
  {
   "cell_type": "code",
   "execution_count": null,
   "metadata": {},
   "outputs": [],
   "source": [
    "visualizer.plot_representation(features=features,clusters=clusters)"
   ]
  },
  {
   "cell_type": "code",
   "execution_count": null,
   "metadata": {},
   "outputs": [],
   "source": [
    "stats = SpikeStatistics()\n",
    "\n",
    "# Example parameters\n",
    "sigma = 15  # ms\n",
    "size = int(2 * (3 * sigma) + 1)  # Ensure the kernel captures most of the Gaussian\n",
    "gaussian_kernel = stats.gaussian_kernel(size, sigma)\n",
    "count_kernel = stats.count_kernel(100)\n",
    "decoded_train = stats.decode(spikes, gaussian_kernel, time_window=[0,50])"
   ]
  },
  {
   "cell_type": "code",
   "execution_count": null,
   "metadata": {},
   "outputs": [],
   "source": [
    "plot_window = np.array(stimulation_times[0])+np.array([-.1,0.2])\n",
    "print(plot_window)\n",
    "visualizer.multi_channel_plot(decoded_train, exclude=True, channels=[], spikes=None, stimulation_times=stimulation_times, time_window = list(plot_window))"
   ]
  },
  {
   "cell_type": "code",
   "execution_count": null,
   "metadata": {},
   "outputs": [],
   "source": [
    "frequencies = stats.calculate_frequency_after_stimulation(spike_train=spikes, time_window=[0,50], stimulation_times=stimulation_times, window_size=0.2, spike_window=1)\n",
    "for freq in frequencies:\n",
    "    print('Channel ' + str(freq))\n",
    "    print(frequencies[freq]['frequencies_per_stimulation'])\n",
    "for freq in frequencies:\n",
    "    print('Average Frequency for Channel ' + str(freq))\n",
    "    print(frequencies[freq]['average_frequency'])"
   ]
  },
  {
   "cell_type": "code",
   "execution_count": null,
   "metadata": {},
   "outputs": [],
   "source": [
    "# Load the YAML file\n",
    "file_path = '8_gcr.yaml'\n",
    "electrode_data = load_yaml(file_path)\n",
    "\n",
    "absolute_peak_times, peak_times = stats.get_peak_times(decoded_train, stimulation_times, window_size=0.2)\n",
    "visualizer.plot_peak_by_distance(peak_times, electrode_data, stimulation_electrode)"
   ]
  },
  {
   "cell_type": "code",
   "execution_count": null,
   "metadata": {},
   "outputs": [],
   "source": [
    "# Plot 2D electrode positions\n",
    "visualizer.plot_2d_electrodes(electrode_data)"
   ]
  },
  {
   "cell_type": "code",
   "execution_count": null,
   "metadata": {},
   "outputs": [],
   "source": [
    "# Plot 2D electrode positions frequency animation\n",
    "visualizer.show_frequency_after_stim_2D(electrode_data, decoded_train, time_window=plot_window, stimulation_times=stimulation_times[0], stimulation_electrode=stimulation_electrode)"
   ]
  },
  {
   "cell_type": "code",
   "execution_count": null,
   "metadata": {},
   "outputs": [],
   "source": [
    "df=pre_and_post_analysis('07102024_pre', '07102024_post')"
   ]
  },
  {
   "cell_type": "code",
   "execution_count": null,
   "metadata": {},
   "outputs": [],
   "source": [
    "visualizer.plot_frequencies_over_amplitudes(df)"
   ]
  }
 ],
 "metadata": {
  "kernelspec": {
   "display_name": "base",
   "language": "python",
   "name": "python3"
  },
  "language_info": {
   "codemirror_mode": {
    "name": "ipython",
    "version": 3
   },
   "file_extension": ".py",
   "mimetype": "text/x-python",
   "name": "python",
   "nbconvert_exporter": "python",
   "pygments_lexer": "ipython3",
   "version": "3.9.13"
  },
  "orig_nbformat": 4
 },
 "nbformat": 4,
 "nbformat_minor": 2
}
